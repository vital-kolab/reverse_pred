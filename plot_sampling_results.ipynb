{
 "cells": [
  {
   "cell_type": "code",
   "execution_count": 1,
   "id": "5433fdb6-64a4-40e0-b0d9-b0fd7891f498",
   "metadata": {},
   "outputs": [],
   "source": [
    "import matplotlib.pyplot as plt\n",
    "import numpy as np\n",
    "import os"
   ]
  },
  {
   "cell_type": "code",
   "execution_count": 2,
   "id": "46a607c1-2a29-4fc7-b794-c5b2600cc7fd",
   "metadata": {},
   "outputs": [],
   "source": [
    "def journal_figure(do_save=False, filename='figure.eps', dpi=300, size_inches=(2.16, 2.16), linewidth=1):\n",
    "    \"\"\"\n",
    "    Adjusts the current matplotlib figure to make it look publication-worthy.\n",
    "    \n",
    "    Parameters:\n",
    "    - do_save: bool, whether to save the figure to an EPS file.\n",
    "    - filename: str, the name of the file to save the figure as.\n",
    "    - dpi: int, the resolution of the figure in dots per inch.\n",
    "    - size_inches: tuple, the size of the figure in inches.\n",
    "    - linewidth: float, the line width for the plot elements.\n",
    "    \"\"\"\n",
    "    ax = plt.gca()  # Get the current axes\n",
    "    \n",
    "    # Adjust tick direction and length\n",
    "    ax.tick_params(direction='out', length=10, width=linewidth)\n",
    "    \n",
    "    # Turn off the top and right spines\n",
    "    ax.spines['top'].set_visible(False)\n",
    "    ax.spines['right'].set_visible(False)\n",
    "    ax.tick_params(direction='out', length=6, width=2)\n",
    "    ax.set_aspect(1.0/plt.gca().get_data_ratio(), adjustable='box')\n",
    "    # Set font size and type\n",
    "    plt.xticks(fontsize=12, fontname='Times New Roman')\n",
    "    plt.yticks(fontsize=12, fontname='Times New Roman')\n",
    "    \n",
    "    if do_save:\n",
    "        # Save the figure\n",
    "        plt.savefig(filename, dpi=dpi, bbox_inches='tight', format='eps', linewidth=linewidth)"
   ]
  },
  {
   "cell_type": "code",
   "execution_count": 3,
   "id": "9c1cc3fa-7753-4b92-98b2-ba0a047bfe5f",
   "metadata": {},
   "outputs": [],
   "source": [
    "from scipy.stats import median_abs_deviation as mad\n",
    "def nanmad(var):\n",
    "    return mad(np.nan_to_num(var))"
   ]
  },
  {
   "cell_type": "code",
   "execution_count": 4,
   "id": "639117d5-6bcd-452d-bd46-4a0166853c2f",
   "metadata": {},
   "outputs": [],
   "source": [
    "sizes=[20, 50, 81, 112, 143, 174, 205, 236, 267, 288]"
   ]
  },
  {
   "cell_type": "code",
   "execution_count": 5,
   "id": "ba6772e4-9c95-40ec-96b2-688959576294",
   "metadata": {},
   "outputs": [],
   "source": [
    "model = \"resnet\""
   ]
  },
  {
   "cell_type": "code",
   "execution_count": 6,
   "id": "31d1908c-5911-4b01-9f97-60c04934e92a",
   "metadata": {},
   "outputs": [],
   "source": [
    "evs_sampling_m = {}\n",
    "evs_sampling_mad = {}\n",
    "for monkey in [\"magneto\", \"nano\"]:\n",
    "    out_dir = f'./results_predictions/monkey2model/{monkey}/v4_sampling/'\n",
    "    evs_sampling_m[monkey] = []\n",
    "    evs_sampling_mad[monkey] = []\n",
    "    for s in sizes:\n",
    "        ev_path = os.path.join(out_dir, f'ev_{model}_{s}.npy')\n",
    "        ev = np.load(ev_path)\n",
    "        evs_sampling_m[monkey].append(np.nanmean(ev))\n",
    "        evs_sampling_mad[monkey].append(nanmad(ev.reshape(-1)))"
   ]
  },
  {
   "cell_type": "code",
   "execution_count": 36,
   "id": "72bacb39-5f15-4551-aae9-f18c6c94f92e",
   "metadata": {},
   "outputs": [
    {
     "name": "stderr",
     "output_type": "stream",
     "text": [
      "findfont: Font family 'Times New Roman' not found.\n",
      "findfont: Font family 'Times New Roman' not found.\n",
      "findfont: Font family 'Times New Roman' not found.\n",
      "findfont: Font family 'Times New Roman' not found.\n",
      "findfont: Font family 'Times New Roman' not found.\n",
      "findfont: Font family 'Times New Roman' not found.\n",
      "findfont: Font family 'Times New Roman' not found.\n",
      "findfont: Font family 'Times New Roman' not found.\n",
      "findfont: Font family 'Times New Roman' not found.\n",
      "findfont: Font family 'Times New Roman' not found.\n",
      "findfont: Font family 'Times New Roman' not found.\n",
      "findfont: Font family 'Times New Roman' not found.\n",
      "findfont: Font family 'Times New Roman' not found.\n",
      "findfont: Font family 'Times New Roman' not found.\n",
      "findfont: Font family 'Times New Roman' not found.\n",
      "findfont: Font family 'Times New Roman' not found.\n",
      "findfont: Font family 'Times New Roman' not found.\n",
      "findfont: Font family 'Times New Roman' not found.\n",
      "findfont: Font family 'Times New Roman' not found.\n",
      "findfont: Font family 'Times New Roman' not found.\n",
      "findfont: Font family 'Times New Roman' not found.\n",
      "findfont: Font family 'Times New Roman' not found.\n",
      "findfont: Font family 'Times New Roman' not found.\n",
      "findfont: Font family 'Times New Roman' not found.\n",
      "findfont: Font family 'Times New Roman' not found.\n",
      "findfont: Font family 'Times New Roman' not found.\n",
      "findfont: Font family 'Times New Roman' not found.\n",
      "The PostScript backend does not support transparency; partially transparent artists will be rendered opaque.\n",
      "findfont: Font family 'Times New Roman' not found.\n",
      "findfont: Font family 'Times New Roman' not found.\n",
      "findfont: Font family 'Times New Roman' not found.\n",
      "findfont: Font family 'Times New Roman' not found.\n",
      "findfont: Font family 'Times New Roman' not found.\n",
      "findfont: Font family 'Times New Roman' not found.\n",
      "findfont: Font family 'Times New Roman' not found.\n",
      "findfont: Font family 'Times New Roman' not found.\n",
      "findfont: Font family 'Times New Roman' not found.\n",
      "findfont: Font family 'Times New Roman' not found.\n",
      "findfont: Font family 'Times New Roman' not found.\n",
      "findfont: Font family 'Times New Roman' not found.\n",
      "findfont: Font family 'Times New Roman' not found.\n",
      "findfont: Font family 'Times New Roman' not found.\n",
      "findfont: Font family 'Times New Roman' not found.\n",
      "findfont: Font family 'Times New Roman' not found.\n",
      "findfont: Font family 'Times New Roman' not found.\n",
      "findfont: Font family 'Times New Roman' not found.\n",
      "findfont: Font family 'Times New Roman' not found.\n",
      "findfont: Font family 'Times New Roman' not found.\n",
      "findfont: Font family 'Times New Roman' not found.\n",
      "findfont: Font family 'Times New Roman' not found.\n",
      "findfont: Font family 'Times New Roman' not found.\n",
      "findfont: Font family 'Times New Roman' not found.\n",
      "findfont: Font family 'Times New Roman' not found.\n",
      "findfont: Font family 'Times New Roman' not found.\n",
      "findfont: Font family 'Times New Roman' not found.\n",
      "findfont: Font family 'Times New Roman' not found.\n",
      "findfont: Font family 'Times New Roman' not found.\n",
      "findfont: Font family 'Times New Roman' not found.\n",
      "findfont: Font family 'Times New Roman' not found.\n",
      "findfont: Font family 'Times New Roman' not found.\n",
      "findfont: Font family 'Times New Roman' not found.\n",
      "findfont: Font family 'Times New Roman' not found.\n",
      "findfont: Font family 'Times New Roman' not found.\n",
      "findfont: Font family 'Times New Roman' not found.\n",
      "findfont: Font family 'Times New Roman' not found.\n",
      "findfont: Font family 'Times New Roman' not found.\n",
      "findfont: Font family 'Times New Roman' not found.\n",
      "findfont: Font family 'Times New Roman' not found.\n",
      "findfont: Font family 'Times New Roman' not found.\n",
      "findfont: Font family 'Times New Roman' not found.\n",
      "findfont: Font family 'Times New Roman' not found.\n",
      "findfont: Font family 'Times New Roman' not found.\n",
      "findfont: Font family 'Times New Roman' not found.\n",
      "findfont: Font family 'Times New Roman' not found.\n",
      "findfont: Font family 'Times New Roman' not found.\n",
      "findfont: Font family 'Times New Roman' not found.\n",
      "findfont: Font family 'Times New Roman' not found.\n",
      "findfont: Font family 'Times New Roman' not found.\n",
      "findfont: Font family 'Times New Roman' not found.\n",
      "findfont: Font family 'Times New Roman' not found.\n",
      "findfont: Font family 'Times New Roman' not found.\n",
      "findfont: Font family 'Times New Roman' not found.\n"
     ]
    },
    {
     "data": {
      "image/png": "[encoded data removed]",
      "text/plain": [
       "<Figure size 640x480 with 1 Axes>"
      ]
     },
     "metadata": {},
     "output_type": "display_data"
    }
   ],
   "source": [
    "plt.scatter(sizes, evs_sampling_m[\"magneto\"], color=\"green\")\n",
    "plt.errorbar(sizes, evs_sampling_m[\"magneto\"], yerr=evs_sampling_mad[\"magneto\"], color=\"green\", alpha=0.3, linestyle=\"None\")\n",
    "plt.scatter(sizes, evs_sampling_m[\"nano\"], color=\"lightgreen\")\n",
    "plt.errorbar(sizes, evs_sampling_m[\"nano\"], yerr=evs_sampling_mad[\"nano\"], color=\"lightgreen\", alpha=0.3, linestyle=\"None\")\n",
    "plt.ylim(0,30)\n",
    "journal_figure()\n",
    "plt.savefig(\"./figures_sampling/monkeys_predictions.eps\")"
   ]
  },
  {
   "cell_type": "code",
   "execution_count": 9,
   "id": "82c7430b-c648-40d4-8183-deaa19a5cec2",
   "metadata": {},
   "outputs": [],
   "source": [
    "from scipy.optimize import curve_fit\n",
    "\n",
    "# Example: hyperbolic saturation\n",
    "def hyperbolic(x, a, b):\n",
    "    return (a * x) / (b + x)"
   ]
  },
  {
   "cell_type": "code",
   "execution_count": 10,
   "id": "208f305d-51a7-45bf-bde7-88aad00ba208",
   "metadata": {},
   "outputs": [
    {
     "name": "stdout",
     "output_type": "stream",
     "text": [
      "Asymptote (a) = 2.87\n",
      "Asymptote (a) = 2.85\n"
     ]
    }
   ],
   "source": [
    "x = np.array(sizes)\n",
    "y_m = np.array(evs_sampling_m[\"magneto\"])\n",
    "y_n = np.array(evs_sampling_m[\"nano\"])\n",
    "\n",
    "# Initial guess: a = max(y), b = median(x)\n",
    "popt_m, pcov_m = curve_fit(hyperbolic, x, y_m, p0=[np.max(y_m), np.median(x)])\n",
    "a_fit_m, b_fit_m = popt_m\n",
    "print(f\"Asymptote (a) = {a_fit_m:.2f}\")\n",
    "\n",
    "popt_n, pcov_n = curve_fit(hyperbolic, x, y_n, p0=[np.max(y_n), np.median(x)])\n",
    "a_fit_n, b_fit_n = popt_n\n",
    "print(f\"Asymptote (a) = {a_fit_n:.2f}\")\n"
   ]
  },
  {
   "cell_type": "code",
   "execution_count": 11,
   "id": "81df4511-dba4-4f25-af75-6627aa34d9f0",
   "metadata": {},
   "outputs": [],
   "source": [
    "sizes_2 = np.linspace(20, 99850, 20).astype(int)"
   ]
  },
  {
   "cell_type": "code",
   "execution_count": 12,
   "id": "3b8aebeb-03bb-490e-bfa0-420b7599b00a",
   "metadata": {},
   "outputs": [],
   "source": [
    "out_dir = f'./results_predictions/within_model_v4/{model}/'\n",
    "evs_sampling_self_m = []\n",
    "evs_sampling_self_mad = []\n",
    "for s in sizes_2:\n",
    "    ev_path = os.path.join(out_dir, f'ev_{model}_{s}.npy')\n",
    "    ev = np.load(ev_path)\n",
    "    evs_sampling_self_m.append(np.nanmean(ev))\n",
    "    evs_sampling_self_mad.append(nanmad(ev.reshape(-1)))"
   ]
  },
  {
   "cell_type": "code",
   "execution_count": 17,
   "id": "eec4ca0c-2346-4fe6-8c77-308ee71946a2",
   "metadata": {},
   "outputs": [],
   "source": [
    "out_dir_m = f'./results_predictions/monkey2model/magneto/v4_sampling/'\n",
    "sizes=[20, 50, 81, 112, 143, 174, 205, 236, 267, 288]\n",
    "\n",
    "evs_sampling_m1 = []\n",
    "evs_sampling_m2 = []\n",
    "for s in sizes:\n",
    "    ev_path_m = os.path.join(f'./results_predictions/monkey2model/magneto/v4_sampling/', f'ev_resnet_{s}.npy')\n",
    "    ev_path_n = os.path.join(f'./results_predictions/monkey2model/nano/v4_sampling/', f'ev_resnet_{s}.npy')\n",
    "    ev_m = np.load(ev_path_m)\n",
    "    ev_n = np.load(ev_path_n)\n",
    "    evs_sampling_m1.append(ev_m)\n",
    "    evs_sampling_m2.append(ev_n)"
   ]
  },
  {
   "cell_type": "code",
   "execution_count": 18,
   "id": "d7c1020f-36a6-4b87-8dfe-a0a4eb991e8f",
   "metadata": {},
   "outputs": [],
   "source": [
    "out_dir = f'./results_predictions/within_model_v4/{model}/'\n",
    "evs_sampling_self = []\n",
    "for s in sizes_2:\n",
    "    ev_path = os.path.join(out_dir, f'ev_{model}_{s}.npy')\n",
    "    ev = np.load(ev_path)\n",
    "    evs_sampling_self.append(ev)"
   ]
  },
  {
   "cell_type": "code",
   "execution_count": 19,
   "id": "cc94f8af-c1f6-42f6-bcaa-fdd6cfc84485",
   "metadata": {},
   "outputs": [
    {
     "data": {
      "text/plain": [
       "((20, 10, 500), (10, 10, 500))"
      ]
     },
     "execution_count": 19,
     "metadata": {},
     "output_type": "execute_result"
    }
   ],
   "source": [
    "np.array(evs_sampling_self).shape, np.array(evs_sampling_m1).shape "
   ]
  },
  {
   "cell_type": "code",
   "execution_count": 20,
   "id": "8f9e6b1b-bbcd-48df-9c0f-f63ff2b6b24f",
   "metadata": {},
   "outputs": [
    {
     "name": "stdout",
     "output_type": "stream",
     "text": [
      "Wilcoxon: W = 0.0, p = 0.000\n",
      "Wilcoxon: W = 2.0, p = 0.000\n"
     ]
    }
   ],
   "source": [
    "from scipy.stats import wilcoxon\n",
    "\n",
    "# Assuming you have arrays of reverse %EV values\n",
    "stat, p = wilcoxon(np.array(evs_sampling_m1).mean(axis=(0,1)), np.array(evs_sampling_self).mean(axis=(0,1)), alternative='less')  # brain < model\n",
    "print(f\"Wilcoxon: W = {stat}, p = {p:.3f}\")\n",
    "stat, p = wilcoxon(np.array(evs_sampling_m2).mean(axis=(0,1)), np.array(evs_sampling_self).mean(axis=(0,1)), alternative='less')  # brain < model\n",
    "print(f\"Wilcoxon: W = {stat}, p = {p:.3f}\")"
   ]
  },
  {
   "cell_type": "code",
   "execution_count": 35,
   "id": "fb1ce21e-5826-45fd-ac11-636d47635875",
   "metadata": {},
   "outputs": [
    {
     "name": "stderr",
     "output_type": "stream",
     "text": [
      "findfont: Font family 'Times New Roman' not found.\n",
      "findfont: Font family 'Times New Roman' not found.\n",
      "findfont: Font family 'Times New Roman' not found.\n",
      "findfont: Font family 'Times New Roman' not found.\n",
      "findfont: Font family 'Times New Roman' not found.\n",
      "findfont: Font family 'Times New Roman' not found.\n",
      "findfont: Font family 'Times New Roman' not found.\n",
      "findfont: Font family 'Times New Roman' not found.\n",
      "findfont: Font family 'Times New Roman' not found.\n",
      "findfont: Font family 'Times New Roman' not found.\n",
      "findfont: Font family 'Times New Roman' not found.\n",
      "findfont: Font family 'Times New Roman' not found.\n",
      "findfont: Font family 'Times New Roman' not found.\n",
      "findfont: Font family 'Times New Roman' not found.\n",
      "findfont: Font family 'Times New Roman' not found.\n",
      "findfont: Font family 'Times New Roman' not found.\n",
      "findfont: Font family 'Times New Roman' not found.\n",
      "findfont: Font family 'Times New Roman' not found.\n",
      "findfont: Font family 'Times New Roman' not found.\n",
      "findfont: Font family 'Times New Roman' not found.\n",
      "findfont: Font family 'Times New Roman' not found.\n",
      "findfont: Font family 'Times New Roman' not found.\n",
      "findfont: Font family 'Times New Roman' not found.\n",
      "findfont: Font family 'Times New Roman' not found.\n",
      "findfont: Font family 'Times New Roman' not found.\n",
      "findfont: Font family 'Times New Roman' not found.\n",
      "The PostScript backend does not support transparency; partially transparent artists will be rendered opaque.\n",
      "findfont: Font family 'Times New Roman' not found.\n",
      "findfont: Font family 'Times New Roman' not found.\n",
      "findfont: Font family 'Times New Roman' not found.\n",
      "findfont: Font family 'Times New Roman' not found.\n",
      "findfont: Font family 'Times New Roman' not found.\n",
      "findfont: Font family 'Times New Roman' not found.\n",
      "findfont: Font family 'Times New Roman' not found.\n",
      "findfont: Font family 'Times New Roman' not found.\n",
      "findfont: Font family 'Times New Roman' not found.\n",
      "findfont: Font family 'Times New Roman' not found.\n",
      "findfont: Font family 'Times New Roman' not found.\n",
      "findfont: Font family 'Times New Roman' not found.\n",
      "findfont: Font family 'Times New Roman' not found.\n",
      "findfont: Font family 'Times New Roman' not found.\n",
      "findfont: Font family 'Times New Roman' not found.\n",
      "findfont: Font family 'Times New Roman' not found.\n",
      "findfont: Font family 'Times New Roman' not found.\n",
      "findfont: Font family 'Times New Roman' not found.\n",
      "findfont: Font family 'Times New Roman' not found.\n",
      "findfont: Font family 'Times New Roman' not found.\n",
      "findfont: Font family 'Times New Roman' not found.\n",
      "findfont: Font family 'Times New Roman' not found.\n",
      "findfont: Font family 'Times New Roman' not found.\n",
      "findfont: Font family 'Times New Roman' not found.\n",
      "findfont: Font family 'Times New Roman' not found.\n",
      "findfont: Font family 'Times New Roman' not found.\n",
      "findfont: Font family 'Times New Roman' not found.\n",
      "findfont: Font family 'Times New Roman' not found.\n",
      "findfont: Font family 'Times New Roman' not found.\n",
      "findfont: Font family 'Times New Roman' not found.\n",
      "findfont: Font family 'Times New Roman' not found.\n",
      "findfont: Font family 'Times New Roman' not found.\n",
      "findfont: Font family 'Times New Roman' not found.\n",
      "findfont: Font family 'Times New Roman' not found.\n",
      "findfont: Font family 'Times New Roman' not found.\n",
      "findfont: Font family 'Times New Roman' not found.\n",
      "findfont: Font family 'Times New Roman' not found.\n",
      "findfont: Font family 'Times New Roman' not found.\n",
      "findfont: Font family 'Times New Roman' not found.\n",
      "findfont: Font family 'Times New Roman' not found.\n",
      "findfont: Font family 'Times New Roman' not found.\n",
      "findfont: Font family 'Times New Roman' not found.\n",
      "findfont: Font family 'Times New Roman' not found.\n",
      "findfont: Font family 'Times New Roman' not found.\n",
      "findfont: Font family 'Times New Roman' not found.\n",
      "findfont: Font family 'Times New Roman' not found.\n",
      "findfont: Font family 'Times New Roman' not found.\n",
      "findfont: Font family 'Times New Roman' not found.\n",
      "findfont: Font family 'Times New Roman' not found.\n",
      "findfont: Font family 'Times New Roman' not found.\n",
      "findfont: Font family 'Times New Roman' not found.\n",
      "findfont: Font family 'Times New Roman' not found.\n"
     ]
    },
    {
     "data": {
      "image/png": "[encoded data removed]",
      "text/plain": [
       "<Figure size 640x480 with 1 Axes>"
      ]
     },
     "metadata": {},
     "output_type": "display_data"
    }
   ],
   "source": [
    "plt.scatter(sizes_2, evs_sampling_self_m, color=\"blue\")\n",
    "plt.errorbar(sizes_2, evs_sampling_self_m, yerr=evs_sampling_self_mad, color=\"blue\", alpha=0.3, linestyle=\"None\")\n",
    "plt.ylim(0,30)\n",
    "journal_figure()\n",
    "plt.savefig(\"./figures_sampling/self_predictions.eps\")"
   ]
  },
  {
   "cell_type": "code",
   "execution_count": 21,
   "id": "7defa83d-3cdb-487d-bf20-0d999ae6b5b5",
   "metadata": {},
   "outputs": [],
   "source": [
    "sizes_3 = np.linspace(20, 100352, 20).astype(int)"
   ]
  },
  {
   "cell_type": "code",
   "execution_count": 22,
   "id": "4caaf0c7-a9c4-4cd6-89f6-5be33c568c27",
   "metadata": {},
   "outputs": [],
   "source": [
    "evs_sampling_instances_m = {}\n",
    "evs_sampling_instances_mad = {}\n",
    "for instance in [\"resnet_0\", \"resnet_3\", \"resnet_4\", \"resnet_5\", \"resnet_6\"]:\n",
    "    out_dir = f'./results_predictions/within_model_v4/{model}/'\n",
    "    evs_sampling_instances_m[instance] = []\n",
    "    evs_sampling_instances_mad[instance] = []\n",
    "    for s in sizes_3:\n",
    "        ev_path = os.path.join(out_dir, f'ev_{instance}_{s}.npy')\n",
    "        ev = np.load(ev_path)\n",
    "        evs_sampling_instances_m[instance].append(np.nanmean(ev))\n",
    "        evs_sampling_instances_mad[instance].append(nanmad(ev.reshape(-1)))"
   ]
  },
  {
   "cell_type": "code",
   "execution_count": 26,
   "id": "f875c1ba-0e58-43db-bff3-1e9497a1a8af",
   "metadata": {},
   "outputs": [],
   "source": [
    "out_dir = f'./results_predictions/within_model_v4/{model}/'\n",
    "evs_sampling_instances = []\n",
    "for instance in [\"resnet_0\", \"resnet_3\", \"resnet_4\", \"resnet_5\", \"resnet_6\"]:\n",
    "    out_dir = f'./results_predictions/within_model_v4/{model}/'\n",
    "    for s in sizes_3:\n",
    "        ev_path = os.path.join(out_dir, f'ev_{instance}_{s}.npy')\n",
    "        ev = np.load(ev_path)\n",
    "        evs_sampling_instances.append(ev)"
   ]
  },
  {
   "cell_type": "code",
   "execution_count": 24,
   "id": "f2a4e33a-8898-497e-b143-5ee50e754cd8",
   "metadata": {},
   "outputs": [
    {
     "data": {
      "text/plain": [
       "(100, 10, 500)"
      ]
     },
     "execution_count": 24,
     "metadata": {},
     "output_type": "execute_result"
    }
   ],
   "source": [
    "np.array(evs_sampling_instances).shape"
   ]
  },
  {
   "cell_type": "code",
   "execution_count": 27,
   "id": "99c0eb45-a761-4335-a30b-cc8e198137a4",
   "metadata": {},
   "outputs": [
    {
     "name": "stdout",
     "output_type": "stream",
     "text": [
      "Wilcoxon: W = 36.0, p = 0.000\n"
     ]
    }
   ],
   "source": [
    "stat, p = wilcoxon(np.array(evs_sampling_instances).mean(axis=(0,1)), np.array(evs_sampling_self).mean(axis=(0,1)), alternative='less')  # brain < model\n",
    "print(f\"Wilcoxon: W = {stat}, p = {p:.3f}\")"
   ]
  },
  {
   "cell_type": "code",
   "execution_count": 33,
   "id": "bfeb13ea-ce9c-4704-8c16-e5ef192ee0d8",
   "metadata": {},
   "outputs": [
    {
     "name": "stdout",
     "output_type": "stream",
     "text": [
      "Wilcoxon: W = 46.0, p = 0.000\n",
      "Wilcoxon: W = 52.0, p = 0.000\n"
     ]
    }
   ],
   "source": [
    "stat, p = wilcoxon(np.array(evs_sampling_m1).mean(axis=(0,1)), np.array(evs_sampling_instances).mean(axis=(0,1)), alternative='less')  # brain < model\n",
    "print(f\"Wilcoxon: W = {stat}, p = {p:.3f}\") #Wilcoxon: W = 125204.0, p = 1.000\n",
    "stat, p = wilcoxon(np.array(evs_sampling_m2).mean(axis=(0,1)), np.array(evs_sampling_instances).mean(axis=(0,1)), alternative='less')  # brain < model\n",
    "print(f\"Wilcoxon: W = {stat}, p = {p:.3f}\") #Wilcoxon: W = 125198.0, p = 1.000"
   ]
  },
  {
   "cell_type": "code",
   "execution_count": 32,
   "id": "42215449-2dca-47b8-a98d-3c52a5d47275",
   "metadata": {},
   "outputs": [
    {
     "name": "stderr",
     "output_type": "stream",
     "text": [
      "findfont: Font family 'Times New Roman' not found.\n",
      "findfont: Font family 'Times New Roman' not found.\n",
      "findfont: Font family 'Times New Roman' not found.\n",
      "findfont: Font family 'Times New Roman' not found.\n",
      "findfont: Font family 'Times New Roman' not found.\n",
      "findfont: Font family 'Times New Roman' not found.\n",
      "findfont: Font family 'Times New Roman' not found.\n",
      "findfont: Font family 'Times New Roman' not found.\n",
      "findfont: Font family 'Times New Roman' not found.\n",
      "findfont: Font family 'Times New Roman' not found.\n",
      "findfont: Font family 'Times New Roman' not found.\n",
      "findfont: Font family 'Times New Roman' not found.\n",
      "findfont: Font family 'Times New Roman' not found.\n",
      "findfont: Font family 'Times New Roman' not found.\n",
      "findfont: Font family 'Times New Roman' not found.\n",
      "findfont: Font family 'Times New Roman' not found.\n",
      "findfont: Font family 'Times New Roman' not found.\n",
      "findfont: Font family 'Times New Roman' not found.\n",
      "findfont: Font family 'Times New Roman' not found.\n",
      "findfont: Font family 'Times New Roman' not found.\n",
      "findfont: Font family 'Times New Roman' not found.\n",
      "findfont: Font family 'Times New Roman' not found.\n",
      "findfont: Font family 'Times New Roman' not found.\n",
      "findfont: Font family 'Times New Roman' not found.\n",
      "findfont: Font family 'Times New Roman' not found.\n",
      "findfont: Font family 'Times New Roman' not found.\n",
      "The PostScript backend does not support transparency; partially transparent artists will be rendered opaque.\n",
      "findfont: Font family 'Times New Roman' not found.\n",
      "findfont: Font family 'Times New Roman' not found.\n",
      "findfont: Font family 'Times New Roman' not found.\n",
      "findfont: Font family 'Times New Roman' not found.\n",
      "findfont: Font family 'Times New Roman' not found.\n",
      "findfont: Font family 'Times New Roman' not found.\n",
      "findfont: Font family 'Times New Roman' not found.\n",
      "findfont: Font family 'Times New Roman' not found.\n",
      "findfont: Font family 'Times New Roman' not found.\n",
      "findfont: Font family 'Times New Roman' not found.\n",
      "findfont: Font family 'Times New Roman' not found.\n",
      "findfont: Font family 'Times New Roman' not found.\n",
      "findfont: Font family 'Times New Roman' not found.\n",
      "findfont: Font family 'Times New Roman' not found.\n",
      "findfont: Font family 'Times New Roman' not found.\n",
      "findfont: Font family 'Times New Roman' not found.\n",
      "findfont: Font family 'Times New Roman' not found.\n",
      "findfont: Font family 'Times New Roman' not found.\n",
      "findfont: Font family 'Times New Roman' not found.\n",
      "findfont: Font family 'Times New Roman' not found.\n",
      "findfont: Font family 'Times New Roman' not found.\n",
      "findfont: Font family 'Times New Roman' not found.\n",
      "findfont: Font family 'Times New Roman' not found.\n",
      "findfont: Font family 'Times New Roman' not found.\n",
      "findfont: Font family 'Times New Roman' not found.\n",
      "findfont: Font family 'Times New Roman' not found.\n",
      "findfont: Font family 'Times New Roman' not found.\n",
      "findfont: Font family 'Times New Roman' not found.\n",
      "findfont: Font family 'Times New Roman' not found.\n",
      "findfont: Font family 'Times New Roman' not found.\n",
      "findfont: Font family 'Times New Roman' not found.\n",
      "findfont: Font family 'Times New Roman' not found.\n",
      "findfont: Font family 'Times New Roman' not found.\n",
      "findfont: Font family 'Times New Roman' not found.\n",
      "findfont: Font family 'Times New Roman' not found.\n",
      "findfont: Font family 'Times New Roman' not found.\n",
      "findfont: Font family 'Times New Roman' not found.\n",
      "findfont: Font family 'Times New Roman' not found.\n",
      "findfont: Font family 'Times New Roman' not found.\n",
      "findfont: Font family 'Times New Roman' not found.\n",
      "findfont: Font family 'Times New Roman' not found.\n",
      "findfont: Font family 'Times New Roman' not found.\n",
      "findfont: Font family 'Times New Roman' not found.\n",
      "findfont: Font family 'Times New Roman' not found.\n",
      "findfont: Font family 'Times New Roman' not found.\n",
      "findfont: Font family 'Times New Roman' not found.\n",
      "findfont: Font family 'Times New Roman' not found.\n",
      "findfont: Font family 'Times New Roman' not found.\n",
      "findfont: Font family 'Times New Roman' not found.\n",
      "findfont: Font family 'Times New Roman' not found.\n",
      "findfont: Font family 'Times New Roman' not found.\n",
      "findfont: Font family 'Times New Roman' not found.\n"
     ]
    },
    {
     "data": {
      "image/png": "[encoded data removed]",
      "text/plain": [
       "<Figure size 640x480 with 1 Axes>"
      ]
     },
     "metadata": {},
     "output_type": "display_data"
    }
   ],
   "source": [
    "for instance in [\"resnet_0\", \"resnet_3\", \"resnet_4\", \"resnet_5\", \"resnet_6\"]:\n",
    "    plt.scatter(sizes_2, evs_sampling_instances_m[instance], color=\"lightblue\")\n",
    "    plt.errorbar(sizes_2, evs_sampling_instances_m[instance], yerr=evs_sampling_instances_mad[instance], color=\"lightblue\", alpha=0.3, linestyle=\"None\")\n",
    "\n",
    "plt.ylim(0,30)\n",
    "journal_figure()\n",
    "plt.savefig(\"./figures_sampling/instance_predictions.eps\")"
   ]
  },
  {
   "cell_type": "code",
   "execution_count": 6,
   "id": "8a56a4c2-56fd-4b5b-ad6c-3d045493314e",
   "metadata": {},
   "outputs": [],
   "source": [
    "full_model_list = [\"alexnet_relu\", \"resnet18\", \"resnet18_robust\", \"resnet18_ssl\", \"resnet\", \"resnet_ssl\", \"resnet_swsl\", \"resnetSIN\", \"resnet152_2\", \"resnet101\", \"resnet101_ssl\", \"resnet_robust_eps1\", \"resnet_robust_eps3\", \"inception\", \"inceptionv1\", \"vit\", \"vit_ssl\", \"vgg16\", \"vgg16_robust\", \"densenet\", \"densenet169\", \"densenet161\", \"densenet161_robust\", \"densenet121\", \"convnext\", \"convnext_ssl\", \"mobilenet\", \"mobilenet_v2\", \"mobilenet_robust\", \"squeezenet\", \"cornetS_t0\", \"cornetS_reg\", \"cornetS_reg2\", \"cornetRT_t4\", \"nasnet\", \"pnasnet\", \"swin\", \"swin_ssl\", \"shufflenet\", \"shufflenet_robust\"] #, \"cornetS_reg\"\n"
   ]
  },
  {
   "cell_type": "code",
   "execution_count": 7,
   "id": "ba340867-b2f6-403b-84a4-c92871292134",
   "metadata": {},
   "outputs": [],
   "source": [
    "all_evs_monkeys_m = []\n",
    "all_evs_monkeys_mad = []\n",
    "all_evs_models_m = []\n",
    "all_evs_models_mad = []\n",
    "for model in full_model_list:\n",
    "    out_dir = f'./results_predictions/monkey2model/magneto/v4_sampling/'\n",
    "    ev_path = os.path.join(out_dir, f'ev_{model}_288.npy')\n",
    "    ev = np.load(ev_path)\n",
    "    all_evs_monkeys_m.append(np.nanmean(ev))\n",
    "    all_evs_monkeys_mad.append(nanmad(ev.reshape(-1)))\n",
    "    \n",
    "    out_dir = f'./results_predictions/within_model_v4/{model}/'\n",
    "    ev_path = os.path.join(out_dir, f'ev_{model}.npy')\n",
    "    ev = np.load(ev_path)\n",
    "    all_evs_models_m.append(np.nanmean(ev))\n",
    "    all_evs_models_mad.append(nanmad(ev.reshape(-1)))"
   ]
  },
  {
   "cell_type": "code",
   "execution_count": 9,
   "id": "adc999d6-31b0-4da1-a3e1-1f6eeb597077",
   "metadata": {},
   "outputs": [
    {
     "name": "stderr",
     "output_type": "stream",
     "text": [
      "findfont: Font family 'Times New Roman' not found.\n",
      "findfont: Font family 'Times New Roman' not found.\n",
      "findfont: Font family 'Times New Roman' not found.\n",
      "findfont: Font family 'Times New Roman' not found.\n",
      "findfont: Font family 'Times New Roman' not found.\n",
      "findfont: Font family 'Times New Roman' not found.\n",
      "findfont: Font family 'Times New Roman' not found.\n",
      "findfont: Font family 'Times New Roman' not found.\n",
      "findfont: Font family 'Times New Roman' not found.\n",
      "findfont: Font family 'Times New Roman' not found.\n",
      "findfont: Font family 'Times New Roman' not found.\n",
      "findfont: Font family 'Times New Roman' not found.\n",
      "findfont: Font family 'Times New Roman' not found.\n",
      "findfont: Font family 'Times New Roman' not found.\n",
      "findfont: Font family 'Times New Roman' not found.\n",
      "findfont: Font family 'Times New Roman' not found.\n",
      "findfont: Font family 'Times New Roman' not found.\n",
      "findfont: Font family 'Times New Roman' not found.\n",
      "findfont: Font family 'Times New Roman' not found.\n",
      "findfont: Font family 'Times New Roman' not found.\n",
      "findfont: Font family 'Times New Roman' not found.\n",
      "findfont: Font family 'Times New Roman' not found.\n",
      "The PostScript backend does not support transparency; partially transparent artists will be rendered opaque.\n",
      "findfont: Font family 'Times New Roman' not found.\n",
      "findfont: Font family 'Times New Roman' not found.\n",
      "findfont: Font family 'Times New Roman' not found.\n",
      "findfont: Font family 'Times New Roman' not found.\n",
      "findfont: Font family 'Times New Roman' not found.\n",
      "findfont: Font family 'Times New Roman' not found.\n",
      "findfont: Font family 'Times New Roman' not found.\n",
      "findfont: Font family 'Times New Roman' not found.\n",
      "findfont: Font family 'Times New Roman' not found.\n",
      "findfont: Font family 'Times New Roman' not found.\n",
      "findfont: Font family 'Times New Roman' not found.\n",
      "findfont: Font family 'Times New Roman' not found.\n",
      "findfont: Font family 'Times New Roman' not found.\n",
      "findfont: Font family 'Times New Roman' not found.\n",
      "findfont: Font family 'Times New Roman' not found.\n",
      "findfont: Font family 'Times New Roman' not found.\n",
      "findfont: Font family 'Times New Roman' not found.\n",
      "findfont: Font family 'Times New Roman' not found.\n",
      "findfont: Font family 'Times New Roman' not found.\n",
      "findfont: Font family 'Times New Roman' not found.\n",
      "findfont: Font family 'Times New Roman' not found.\n",
      "findfont: Font family 'Times New Roman' not found.\n",
      "findfont: Font family 'Times New Roman' not found.\n",
      "findfont: Font family 'Times New Roman' not found.\n",
      "findfont: Font family 'Times New Roman' not found.\n",
      "findfont: Font family 'Times New Roman' not found.\n",
      "findfont: Font family 'Times New Roman' not found.\n",
      "findfont: Font family 'Times New Roman' not found.\n",
      "findfont: Font family 'Times New Roman' not found.\n",
      "findfont: Font family 'Times New Roman' not found.\n",
      "findfont: Font family 'Times New Roman' not found.\n",
      "findfont: Font family 'Times New Roman' not found.\n",
      "findfont: Font family 'Times New Roman' not found.\n",
      "findfont: Font family 'Times New Roman' not found.\n",
      "findfont: Font family 'Times New Roman' not found.\n",
      "findfont: Font family 'Times New Roman' not found.\n",
      "findfont: Font family 'Times New Roman' not found.\n",
      "findfont: Font family 'Times New Roman' not found.\n",
      "findfont: Font family 'Times New Roman' not found.\n",
      "findfont: Font family 'Times New Roman' not found.\n",
      "findfont: Font family 'Times New Roman' not found.\n",
      "findfont: Font family 'Times New Roman' not found.\n",
      "findfont: Font family 'Times New Roman' not found.\n",
      "findfont: Font family 'Times New Roman' not found.\n"
     ]
    },
    {
     "data": {
      "image/png": "[encoded data removed]",
      "text/plain": [
       "<Figure size 640x480 with 1 Axes>"
      ]
     },
     "metadata": {},
     "output_type": "display_data"
    }
   ],
   "source": [
    "for i, model in enumerate(full_model_list):\n",
    "    if \"robust\" in model:\n",
    "        color=\"yellow\"\n",
    "    elif \"ssl\" in model:\n",
    "        color=\"purple\"\n",
    "    elif model == \"vit\" or model==\"swin\":\n",
    "        color=\"lightblue\"\n",
    "    elif \"reg\" in model:\n",
    "        color=\"red\"\n",
    "    else:\n",
    "        color=\"blue\"\n",
    "    plt.scatter(all_evs_models_m[i], all_evs_monkeys_m[i], color=color)\n",
    "    plt.errorbar(all_evs_models_m[i], all_evs_monkeys_m[i], xerr=all_evs_models_mad[i], yerr=all_evs_monkeys_mad[i], linestyle=\"None\", alpha=0.3, color=color)\n",
    "plt.plot([0,60], [0,60], linestyle=\"--\", color=\"black\")\n",
    "plt.xlabel(\"EV within model\")\n",
    "plt.ylabel(\"EV from monkey\")\n",
    "journal_figure()\n",
    "plt.savefig(\"./figures_sampling/ev_models_vs_monkeys.eps\")"
   ]
  },
  {
   "cell_type": "code",
   "execution_count": 11,
   "id": "71b2d993-e9d3-47d6-9f69-e024c7325477",
   "metadata": {},
   "outputs": [
    {
     "data": {
      "text/plain": [
       "PearsonRResult(statistic=0.8597696606745948, pvalue=1.2044177074279629e-12)"
      ]
     },
     "execution_count": 11,
     "metadata": {},
     "output_type": "execute_result"
    }
   ],
   "source": [
    "from scipy.stats import pearsonr\n",
    "pearsonr(all_evs_models_m, all_evs_monkeys_m)"
   ]
  },
  {
   "cell_type": "code",
   "execution_count": null,
   "id": "7fba0f68-6aa3-4650-a302-e529fd0f982f",
   "metadata": {},
   "outputs": [],
   "source": []
  }
 ],
 "metadata": {
  "kernelspec": {
   "display_name": "feature_extraction",
   "language": "python",
   "name": "smuzelle"
  },
  "language_info": {
   "codemirror_mode": {
    "name": "ipython",
    "version": 3
   },
   "file_extension": ".py",
   "mimetype": "text/x-python",
   "name": "python",
   "nbconvert_exporter": "python",
   "pygments_lexer": "ipython3",
   "version": "3.11.2"
  }
 },
 "nbformat": 4,
 "nbformat_minor": 5
}
