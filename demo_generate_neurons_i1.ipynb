{
 "cells": [
  {
   "cell_type": "code",
   "execution_count": 9,
   "id": "3174dbe6",
   "metadata": {},
   "outputs": [],
   "source": [
    "import numpy as np\n",
    "from decode_utils import decode, get_percent_correct_from_proba, get_fa, get_dprime\n"
   ]
  },
  {
   "cell_type": "code",
   "execution_count": 6,
   "id": "6c32c065",
   "metadata": {},
   "outputs": [],
   "source": [
    "def select_neurons(ev, selected_rates):  \n",
    "    print(ev.shape, selected_rates.shape)  \n",
    "    selected_rates = np.array(selected_rates[:, :ev.shape[0]])  \n",
    "    best_neurons = selected_rates[:,ev > np.nanpercentile(ev, 80, axis=0)]  \n",
    "    worst_neurons = selected_rates[:,ev < np.nanpercentile(ev, 20, axis=0)]  \n",
    "    return best_neurons, worst_neurons"
   ]
  },
  {
   "cell_type": "code",
   "execution_count": 8,
   "id": "d8e9a298",
   "metadata": {},
   "outputs": [],
   "source": [
    "nrImages = 1320\n",
    "def create_i1_i2(model_features_):\n",
    "    lb = ['bear','elephant','person','car','dog','apple','chair','plane','bird','zebra']\n",
    "    labels = np.repeat(lb, 132,axis=0)\n",
    "    i1 = np.zeros((nrImages,20), dtype=float) \n",
    "    i2 = np.zeros((20, nrImages,len(lb)), dtype=float) \n",
    "    dp_m = np.zeros((nrImages,20), dtype=float) \n",
    "    i1[:]=np.nan \n",
    "    i2[:]=np.nan \n",
    "    for j in range(20): \n",
    "        print('nrBS: '+str(j)) \n",
    "        p = decode(model_features_,labels, seed=j, nrfolds=3) \n",
    "        pc = get_percent_correct_from_proba(p,labels, np.array(lb)) \n",
    "        i1[:,j] = np.nanmean(pc, axis=1) \n",
    "        i2[j] = pc\n",
    "    return i1, i2"
   ]
  },
  {
   "cell_type": "code",
   "execution_count": 7,
   "id": "d0220fd1",
   "metadata": {},
   "outputs": [
    {
     "name": "stdout",
     "output_type": "stream",
     "text": [
      "(169,) (1320, 169, 70)\n",
      "(107,) (1320, 107, 83)\n"
     ]
    }
   ],
   "source": [
    "evs = np.load(f\"./results_predictions/monkey2monkey/ev_nano_to_magneto.npy\")\n",
    "evs_m = np.load(f\"./results_predictions/monkey2monkey/ev_magneto_to_nano.npy\")\n",
    "\n",
    "selected_rates_magneto = np.load('./neural_data/selected_rates_magneto.npy')\n",
    "selected_rates_nano = np.load('./neural_data/selected_rates_nano.npy')\n",
    "\n",
    "best_neurons_m, worst_neurons_m = select_neurons(evs, selected_rates_magneto)\n",
    "best_neurons_n, worst_neurons_n = select_neurons(evs_m, selected_rates_nano)"
   ]
  },
  {
   "cell_type": "code",
   "execution_count": null,
   "id": "145bfba1",
   "metadata": {},
   "outputs": [],
   "source": [
    "%%capture --no-display\n",
    "i1_worst_m, _ = create_i1_i2(np.nanmean(worst_neurons_m, axis=2).T)\n",
    "i1_worst_n, _ = create_i1_i2(np.nanmean(worst_neurons_n, axis=2).T)\n",
    "\n",
    "np.save(\"./behavior/i1s_unique_magneto.npy\", i1_worst_m)\n",
    "np.save(\"./behavior/i1s_unique_nano.npy\", i1_worst_n)"
   ]
  },
  {
   "cell_type": "code",
   "execution_count": null,
   "id": "32e05da5",
   "metadata": {},
   "outputs": [],
   "source": [
    "%%capture --no-display\n",
    "rng = np.random.default_rng(seed=111)\n",
    "for sample_size in range(10, 30, 2):\n",
    "    i1s_best_m = []\n",
    "    i1s_best_n = []\n",
    "\n",
    "    for r in range(5):\n",
    "        indices_best_m = rng.choice(best_neurons_m.shape[1], size=sample_size, replace=False)\n",
    "        best_neurons_m_sampled = best_neurons_m[:, indices_best_m, :]\n",
    "        i1_best_m, _ = create_i1_i2(np.nanmean(best_neurons_m_sampled, axis=2).T)\n",
    "        i1s_best_m.append(i1_best_m)\n",
    "\n",
    "        indices_best_n = rng.choice(best_neurons_n.shape[1], size=sample_size, replace=False)\n",
    "        best_neurons_n_sampled = best_neurons_n[:, indices_best_n, :]\n",
    "        i1_best_n, _ = create_i1_i2(np.nanmean(best_neurons_n_sampled, axis=2).T)\n",
    "        i1s_best_n.append(i1_best_n)\n",
    "\n",
    "    i1s_best_m = np.array(i1s_best_m)\n",
    "    i1s_best_n = np.array(i1s_best_n)\n",
    "\n",
    "    np.save(f\"./behavior/i1s_common_magneto_{sample_size}.npy\", i1s_best_m)\n",
    "    np.save(f\"./behavior/i1s_common_nano_{sample_size}.npy\", i1s_best_n)\n",
    "\n"
   ]
  },
  {
   "cell_type": "code",
   "execution_count": null,
   "id": "26acab19",
   "metadata": {},
   "outputs": [],
   "source": [
    "i1_worst_m = np.load(\"./behavior/i1s_unique_magneto.npy\")\n",
    "i1_worst_n = np.load(\"./behavior/i1s_unique_nano.npy\")"
   ]
  },
  {
   "cell_type": "code",
   "execution_count": 13,
   "id": "b322486d",
   "metadata": {},
   "outputs": [],
   "source": [
    "import matplotlib.pyplot as plt\n",
    "from figure_utils import journal_figure"
   ]
  },
  {
   "cell_type": "code",
   "execution_count": null,
   "id": "23006357",
   "metadata": {},
   "outputs": [
    {
     "data": {
      "image/png": "[encoded data removed]",
      "text/plain": [
       "<Figure size 640x480 with 1 Axes>"
      ]
     },
     "metadata": {},
     "output_type": "display_data"
    }
   ],
   "source": [
    "plt.axhline(i1_worst_m.mean(), color='green', linestyle='--', label='Unique Magneto')\n",
    "plt.axhline(i1_worst_n.mean(), color='lightgreen', linestyle='--', label='Unique Nano')\n",
    "for sample_size in range(10, 30, 2):\n",
    "    i1s_best_m = np.load(f\"./behavior/i1s_common_magneto_{sample_size}.npy\")\n",
    "    \n",
    "    plt.scatter(sample_size, np.nanmean(i1s_best_m), label=f'Common Magneto {sample_size}', color='green', alpha=0.5)\n",
    "\n",
    "for sample_size in range(10, 22, 2):\n",
    "    i1s_best_n = np.load(f\"./behavior/i1s_common_nano_{sample_size}.npy\")\n",
    "\n",
    "    plt.scatter(sample_size, np.nanmean(i1s_best_n), label=f'Common Nano {sample_size}', color='lightgreen', alpha=0.5)\n",
    "plt.xlabel(\"Sample Size\")\n",
    "plt.ylabel(\"Average Accuracy\")\n",
    "plt.legend()\n",
    "journal_figure()"
   ]
  },
  {
   "cell_type": "code",
   "execution_count": null,
   "id": "cd2443b8",
   "metadata": {},
   "outputs": [],
   "source": []
  }
 ],
 "metadata": {
  "kernelspec": {
   "display_name": "Python 3",
   "language": "python",
   "name": "python3"
  },
  "language_info": {
   "codemirror_mode": {
    "name": "ipython",
    "version": 3
   },
   "file_extension": ".py",
   "mimetype": "text/x-python",
   "name": "python",
   "nbconvert_exporter": "python",
   "pygments_lexer": "ipython3",
   "version": "3.10.18"
  }
 },
 "nbformat": 4,
 "nbformat_minor": 5
}
