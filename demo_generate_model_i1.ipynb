{
 "cells": [
  {
   "cell_type": "code",
   "execution_count": 1,
   "id": "51f77d57",
   "metadata": {},
   "outputs": [],
   "source": [
    "import numpy as np"
   ]
  },
  {
   "cell_type": "code",
   "execution_count": 2,
   "id": "92da8ab0",
   "metadata": {},
   "outputs": [],
   "source": [
    "from decode_utils import decode, get_percent_correct_from_proba, get_fa, get_dprime\n",
    "nrImages = 1320"
   ]
  },
  {
   "cell_type": "code",
   "execution_count": null,
   "id": "3f38112f",
   "metadata": {},
   "outputs": [],
   "source": [
    "\n",
    "def create_i1_i2(model_features_):\n",
    "    lb = ['bear','elephant','person','car','dog','apple','chair','plane','bird','zebra']\n",
    "    labels = np.repeat(lb, 132,axis=0)\n",
    "    i1 = np.zeros((nrImages,20), dtype=float) \n",
    "    i2 = np.zeros((20, nrImages,len(lb)), dtype=float) \n",
    "    dp_m = np.zeros((nrImages,20), dtype=float) \n",
    "    i1[:]=np.nan \n",
    "    i2[:]=np.nan \n",
    "    for j in range(20): \n",
    "        print('nrBS: '+str(j)) \n",
    "        p = decode(model_features_,labels, seed=j, nrfolds=3) \n",
    "        pc = get_percent_correct_from_proba(p,labels, np.array(lb)) \n",
    "        i1[:,j] = np.nanmean(pc, axis=1) \n",
    "        i2[j] = pc\n",
    "    return i1, i2"
   ]
  },
  {
   "cell_type": "code",
   "execution_count": 4,
   "id": "66300160",
   "metadata": {},
   "outputs": [],
   "source": [
    "def select_neurons(ev, selected_rates):  \n",
    "    print(ev.shape, selected_rates.shape)  \n",
    "    selected_rates = np.array(selected_rates[:, :ev.shape[0]])  \n",
    "    best_neurons = selected_rates[:,ev > np.nanpercentile(ev, 80, axis=0)]  \n",
    "    worst_neurons = selected_rates[:,ev < np.nanpercentile(ev, 20, axis=0)]  \n",
    "    return best_neurons, worst_neurons"
   ]
  },
  {
   "cell_type": "code",
   "execution_count": 6,
   "id": "a4460212",
   "metadata": {},
   "outputs": [],
   "source": [
    "def load_model_features(model):\n",
    "    path_map = {\n",
    "        \"alexnet_relu\": \"model_features/alexnet_features.npy\",\n",
    "        \"resnet\": \"model_features/resnet50_features.npy\",\n",
    "        \"resnet18\": \"model_features/resnet18_features.npy\",\n",
    "        \"resnet18_ssl\": \"model_features/resnet18_ssl_features.npy\",\n",
    "        \"resnet18_robust\": \"model_features/resnet18_robust_features.npy\",\n",
    "        \"resnet_ssl\": \"model_features/resnet50_ssl_features.npy\",\n",
    "        \"resnet_swsl\": \"model_features/resnet50_swsl_features.npy\",\n",
    "        \"resnetSIN\": \"model_features/resnetSIN_features.npy\",\n",
    "        \"resnet152_2\": \"model_features/resnet152_features.npy\",\n",
    "        \"resnet101\": \"model_features/resnet101_features.npy\",\n",
    "        \"resnet101_ssl\": \"model_features/resnet101_ssl_features.npy\",\n",
    "        \"resnet_robust_eps1\": \"model_features/resnet50_eps1_robust_features.npy\",\n",
    "        \"resnet_robust_eps3\": \"model_features/resnet50_eps3_robust_features.npy\",\n",
    "        \"inception\": \"model_features/inceptionv3_features.npy\",\n",
    "        \"inceptionv1\": \"model_features/inceptionv1_features.npy\",\n",
    "        \"vit\": \"model_features/vit_features.npy\",\n",
    "        \"vit_ssl\": \"model_features/vit_ssl_features.npy\",\n",
    "        \"vgg16\": \"model_features/vgg16_features.npy\",\n",
    "        \"vgg16_robust\": \"model_features/vgg16_robust_features.npy\",\n",
    "        \"densenet\": \"model_features/densenet101_features.npy\",\n",
    "        \"densenet169\": \"model_features/densenet169_features.npy\",\n",
    "        \"densenet161\": \"model_features/densenet161_features.npy\",\n",
    "        \"densenet161_robust\": \"model_features/densenet161_robust_features.npy\",\n",
    "        \"densenet121\": \"model_features/densenet121_features.npy\",\n",
    "        \"convnext\": \"model_features/convnext_features.npy\",\n",
    "        \"convnext_ssl\": \"model_features/convnext_ssl_features.npy\",\n",
    "        \"mobilenet\": \"model_features/mobilenet_features.npy\",\n",
    "        \"mobilenet_v2\": \"model_features/mobilenet_v2_features.npy\",\n",
    "        \"mobilenet_robust\": \"model_features/mobilenet_robust_features.npy\",\n",
    "        \"squeezenet\": \"model_features/squeezenet_features.npy\",\n",
    "        \"cornetS_t0\": \"model_features/CORnet-S_t0_features.npy\",\n",
    "        \"cornetS_reg\": \"model_features/cornetS_regularized_features.npy\",\n",
    "        \"cornetRT_t4\": \"model_features/CORnet-RT_t4_features.npy\",\n",
    "        \"nasnet\": \"model_features/nasnet_features.npy\",\n",
    "        \"pnasnet\": \"model_features/pnasnet_features.npy\",\n",
    "        \"swin\": \"model_features/swin_features.npy\",\n",
    "        \"swin_ssl\": \"model_features/swin_ssl_features.npy\",\n",
    "        \"shufflenet\": \"model_features/shufflenet_features.npy\",\n",
    "        \"shufflenet_robust\": \"model_features/shufflenet_robust_features.npy\",\n",
    "    }\n",
    "    if model not in path_map:\n",
    "        raise ValueError(\"Model not found\")\n",
    "    features = np.load(path_map[model])\n",
    "    return features.reshape((1320, -1))"
   ]
  },
  {
   "cell_type": "code",
   "execution_count": 8,
   "id": "986a215c",
   "metadata": {},
   "outputs": [
    {
     "name": "stdout",
     "output_type": "stream",
     "text": [
      "(100352,) (1320, 100352)\n",
      "(100352,) (1320, 100352)\n"
     ]
    }
   ],
   "source": [
    "good_neurons_models_monkeys = {}\n",
    "for model in [\"resnet\"]:\n",
    "    features = load_model_features(model)\n",
    "    good_neurons_models_monkeys[model] = {}\n",
    "    for monkey in [\"magneto\", \"nano\"]:\n",
    "        good_neurons_models_monkeys[model][monkey] = {}\n",
    "        ev_per_neuron = np.load(f'./results_predictions/monkey2model/{monkey}/ev_{model}.npy')\n",
    "        best_neurons, worst_neurons = select_neurons(ev_per_neuron, features)\n",
    "        good_neurons_models_monkeys[model][monkey][\"good\"] = best_neurons\n",
    "        good_neurons_models_monkeys[model][monkey][\"bad\"] = worst_neurons\n"
   ]
  },
  {
   "cell_type": "code",
   "execution_count": 10,
   "id": "6a95e0f1",
   "metadata": {},
   "outputs": [],
   "source": [
    "good_neurons = good_neurons_models_monkeys[model][monkey][\"good\"]\n",
    "\n",
    "proj = np.random.randn(good_neurons.shape[1], 813)\n",
    "good_neurons = np.dot(good_neurons, proj)"
   ]
  },
  {
   "cell_type": "code",
   "execution_count": null,
   "id": "0be3b526",
   "metadata": {},
   "outputs": [],
   "source": [
    "%%capture --no-display\n",
    "\n",
    "rng = np.random.default_rng(seed=111)\n",
    "# sample units in the good units from 10 to 800\n",
    "model = \"resnet\"\n",
    "for monkey in [\"magneto\", \"nano\"]:\n",
    "    for sample_size in range(200, 300, 20):\n",
    "        i1s_good = []\n",
    "        for r in range(5):\n",
    "            indices = rng.choice(good_neurons.shape[1], sample_size, replace=False)\n",
    "            sampled_good_neurons = good_neurons[:, indices]\n",
    "\n",
    "            i1_good, _ = create_i1_i2(sampled_good_neurons.T)\n",
    "            i1s_good.append(i1_good)\n",
    "\n",
    "        np.save(f'./results_behavior/{model}/{monkey}/i1_good_{sample_size}.npy', i1s_good)\n"
   ]
  },
  {
   "cell_type": "code",
   "execution_count": 14,
   "id": "0f79871e",
   "metadata": {},
   "outputs": [],
   "source": [
    "%%capture --no-display\n",
    "for monkey in [\"magneto\", \"nano\"]:\n",
    "    bad_neurons = good_neurons_models_monkeys[model][monkey][\"bad\"]\n",
    "        \n",
    "    proj = np.random.randn(bad_neurons.shape[1], 813)\n",
    "    bad_neurons = np.dot(bad_neurons, proj)\n",
    "\n",
    "    i1_bad, _ = create_i1_i2(bad_neurons.T)\n",
    "\n",
    "    np.save(f'./results_behavior/{model}/{monkey}/i1_bad.npy', i1_bad)\n"
   ]
  }
 ],
 "metadata": {
  "kernelspec": {
   "display_name": "Python 3",
   "language": "python",
   "name": "python3"
  },
  "language_info": {
   "codemirror_mode": {
    "name": "ipython",
    "version": 3
   },
   "file_extension": ".py",
   "mimetype": "text/x-python",
   "name": "python",
   "nbconvert_exporter": "python",
   "pygments_lexer": "ipython3",
   "version": "3.10.18"
  }
 },
 "nbformat": 4,
 "nbformat_minor": 5
}
