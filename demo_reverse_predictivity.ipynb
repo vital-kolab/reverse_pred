{
 "cells": [
  {
   "cell_type": "code",
   "execution_count": 1,
   "id": "ceb30b3d-7c07-4bc2-a9b7-5b8f02bc9b21",
   "metadata": {},
   "outputs": [],
   "source": [
    "import numpy as np\n",
    "import os"
   ]
  },
  {
   "cell_type": "code",
   "execution_count": 2,
   "id": "a80a7138-af9a-4be9-b6a3-341cf266ac25",
   "metadata": {},
   "outputs": [],
   "source": [
    "import monkey_to_model"
   ]
  },
  {
   "cell_type": "code",
   "execution_count": 3,
   "id": "211b0ea5-0039-48a1-b47d-9b189601b4b0",
   "metadata": {},
   "outputs": [],
   "source": [
    "model = \"densenet161\"\n",
    "monkey = \"m2\"\n",
    "out_dir = f'./results_predictions/monkey2model/{model}'\n",
    "data_dir = \"/home/smuzelle/scratch/data_reverse_predictivity\"\n",
    "n_images = 1320"
   ]
  },
  {
   "cell_type": "code",
   "execution_count": 4,
   "id": "4c658cbf-90a3-4835-a145-90105a4f9a0a",
   "metadata": {},
   "outputs": [
    {
     "name": "stdout",
     "output_type": "stream",
     "text": [
      "(1320, 288)\n"
     ]
    }
   ],
   "source": [
    "monkey_to_model.main(model, monkey, out_dir, n_images, data_dir)"
   ]
  },
  {
   "cell_type": "code",
   "execution_count": 5,
   "id": "77b2a0d7-cdd0-430b-aae3-93be088c662a",
   "metadata": {},
   "outputs": [],
   "source": [
    "ev = np.load(os.path.join(out_dir, f'reverse_{monkey}_ev.npy'))"
   ]
  },
  {
   "cell_type": "code",
   "execution_count": 7,
   "id": "a5b9874d-eb82-410f-834e-3a7483870ce8",
   "metadata": {},
   "outputs": [
    {
     "data": {
      "text/plain": [
       "(51744,)"
      ]
     },
     "execution_count": 7,
     "metadata": {},
     "output_type": "execute_result"
    }
   ],
   "source": [
    "ev.shape"
   ]
  },
  {
   "cell_type": "code",
   "execution_count": 8,
   "id": "6f6ad135-d948-4d35-b26b-d19e428db7f2",
   "metadata": {},
   "outputs": [
    {
     "data": {
      "text/plain": [
       "16.240647807896348"
      ]
     },
     "execution_count": 8,
     "metadata": {},
     "output_type": "execute_result"
    }
   ],
   "source": [
    "ev.mean()"
   ]
  },
  {
   "cell_type": "code",
   "execution_count": null,
   "id": "75a1f19e-3fc5-4021-ac9e-8a545069c5cf",
   "metadata": {},
   "outputs": [],
   "source": []
  }
 ],
 "metadata": {
  "kernelspec": {
   "display_name": "Basic Python env",
   "language": "python",
   "name": "def-kohitij"
  },
  "language_info": {
   "codemirror_mode": {
    "name": "ipython",
    "version": 3
   },
   "file_extension": ".py",
   "mimetype": "text/x-python",
   "name": "python",
   "nbconvert_exporter": "python",
   "pygments_lexer": "ipython3",
   "version": "3.11.2"
  }
 },
 "nbformat": 4,
 "nbformat_minor": 5
}
