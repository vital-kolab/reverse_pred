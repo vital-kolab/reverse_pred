{
 "cells": [
  {
   "cell_type": "code",
   "execution_count": 1,
   "id": "56c6dd5c-ec8d-4caa-997a-780049ccb3eb",
   "metadata": {},
   "outputs": [],
   "source": [
    "import numpy as np\n",
    "import os"
   ]
  },
  {
   "cell_type": "code",
   "execution_count": 2,
   "id": "de08a8be-468b-4b8e-b4e4-80d1ce80dcd6",
   "metadata": {},
   "outputs": [],
   "source": [
    "import model_to_monkey"
   ]
  },
  {
   "cell_type": "code",
   "execution_count": 3,
   "id": "c4043b38-2262-4078-8cd0-d03bc2f1a5b1",
   "metadata": {},
   "outputs": [],
   "source": [
    "model = \"vgg16\"\n",
    "monkey = \"m2\"\n",
    "out_dir = f'./results_for_figures/model2monkey/{model}'\n",
    "data_dir = \"/home/smuzelle/scratch/data_reverse_predictivity\"\n",
    "n_images = 1320"
   ]
  },
  {
   "cell_type": "code",
   "execution_count": 4,
   "id": "8b7a0e19-e812-4a1b-b9ce-7a15bac40437",
   "metadata": {},
   "outputs": [
    {
     "name": "stdout",
     "output_type": "stream",
     "text": [
      "(1320, 107)\n"
     ]
    },
    {
     "name": "stderr",
     "output_type": "stream",
     "text": [
      "/lustre06/project/6067616/smuzelle/reverse_predictivity/basic/lib/python3.11/site-packages/sklearn/linear_model/_ridge.py:248: LinAlgWarning: Ill-conditioned matrix (rcond=1.69287e-09): result may not be accurate.\n",
      "  dual_coef = linalg.solve(K, y, assume_a=\"pos\", overwrite_a=False)\n",
      "/lustre06/project/6067616/smuzelle/reverse_predictivity/basic/lib/python3.11/site-packages/sklearn/linear_model/_ridge.py:248: LinAlgWarning: Ill-conditioned matrix (rcond=1.20016e-09): result may not be accurate.\n",
      "  dual_coef = linalg.solve(K, y, assume_a=\"pos\", overwrite_a=False)\n",
      "/lustre06/project/6067616/smuzelle/reverse_predictivity/basic/lib/python3.11/site-packages/sklearn/linear_model/_ridge.py:250: UserWarning: Singular matrix in solving dual problem. Using least-squares solution instead.\n",
      "  warnings.warn(\n",
      "/lustre06/project/6067616/smuzelle/reverse_predictivity/basic/lib/python3.11/site-packages/sklearn/linear_model/_ridge.py:248: LinAlgWarning: Ill-conditioned matrix (rcond=2.16752e-09): result may not be accurate.\n",
      "  dual_coef = linalg.solve(K, y, assume_a=\"pos\", overwrite_a=False)\n",
      "/lustre06/project/6067616/smuzelle/reverse_predictivity/basic/lib/python3.11/site-packages/sklearn/linear_model/_ridge.py:248: LinAlgWarning: Ill-conditioned matrix (rcond=2.17579e-09): result may not be accurate.\n",
      "  dual_coef = linalg.solve(K, y, assume_a=\"pos\", overwrite_a=False)\n",
      "/lustre06/project/6067616/smuzelle/reverse_predictivity/basic/lib/python3.11/site-packages/sklearn/linear_model/_ridge.py:250: UserWarning: Singular matrix in solving dual problem. Using least-squares solution instead.\n",
      "  warnings.warn(\n",
      "/lustre06/project/6067616/smuzelle/reverse_predictivity/basic/lib/python3.11/site-packages/sklearn/linear_model/_ridge.py:248: LinAlgWarning: Ill-conditioned matrix (rcond=3.07806e-09): result may not be accurate.\n",
      "  dual_coef = linalg.solve(K, y, assume_a=\"pos\", overwrite_a=False)\n",
      "/lustre06/project/6067616/smuzelle/reverse_predictivity/basic/lib/python3.11/site-packages/sklearn/linear_model/_ridge.py:248: LinAlgWarning: Ill-conditioned matrix (rcond=3.63071e-09): result may not be accurate.\n",
      "  dual_coef = linalg.solve(K, y, assume_a=\"pos\", overwrite_a=False)\n",
      "/lustre06/project/6067616/smuzelle/reverse_predictivity/basic/lib/python3.11/site-packages/sklearn/linear_model/_ridge.py:248: LinAlgWarning: Ill-conditioned matrix (rcond=1.84308e-09): result may not be accurate.\n",
      "  dual_coef = linalg.solve(K, y, assume_a=\"pos\", overwrite_a=False)\n",
      "/lustre06/project/6067616/smuzelle/reverse_predictivity/basic/lib/python3.11/site-packages/sklearn/linear_model/_ridge.py:248: LinAlgWarning: Ill-conditioned matrix (rcond=2.87163e-09): result may not be accurate.\n",
      "  dual_coef = linalg.solve(K, y, assume_a=\"pos\", overwrite_a=False)\n",
      "/lustre06/project/6067616/smuzelle/reverse_predictivity/basic/lib/python3.11/site-packages/sklearn/linear_model/_ridge.py:248: LinAlgWarning: Ill-conditioned matrix (rcond=1.69287e-09): result may not be accurate.\n",
      "  dual_coef = linalg.solve(K, y, assume_a=\"pos\", overwrite_a=False)\n",
      "/lustre06/project/6067616/smuzelle/reverse_predictivity/basic/lib/python3.11/site-packages/sklearn/linear_model/_ridge.py:248: LinAlgWarning: Ill-conditioned matrix (rcond=1.20016e-09): result may not be accurate.\n",
      "  dual_coef = linalg.solve(K, y, assume_a=\"pos\", overwrite_a=False)\n",
      "/lustre06/project/6067616/smuzelle/reverse_predictivity/basic/lib/python3.11/site-packages/sklearn/linear_model/_ridge.py:250: UserWarning: Singular matrix in solving dual problem. Using least-squares solution instead.\n",
      "  warnings.warn(\n",
      "/lustre06/project/6067616/smuzelle/reverse_predictivity/basic/lib/python3.11/site-packages/sklearn/linear_model/_ridge.py:248: LinAlgWarning: Ill-conditioned matrix (rcond=2.16752e-09): result may not be accurate.\n",
      "  dual_coef = linalg.solve(K, y, assume_a=\"pos\", overwrite_a=False)\n",
      "/lustre06/project/6067616/smuzelle/reverse_predictivity/basic/lib/python3.11/site-packages/sklearn/linear_model/_ridge.py:248: LinAlgWarning: Ill-conditioned matrix (rcond=2.17579e-09): result may not be accurate.\n",
      "  dual_coef = linalg.solve(K, y, assume_a=\"pos\", overwrite_a=False)\n",
      "/lustre06/project/6067616/smuzelle/reverse_predictivity/basic/lib/python3.11/site-packages/sklearn/linear_model/_ridge.py:250: UserWarning: Singular matrix in solving dual problem. Using least-squares solution instead.\n",
      "  warnings.warn(\n",
      "/lustre06/project/6067616/smuzelle/reverse_predictivity/basic/lib/python3.11/site-packages/sklearn/linear_model/_ridge.py:248: LinAlgWarning: Ill-conditioned matrix (rcond=3.07806e-09): result may not be accurate.\n",
      "  dual_coef = linalg.solve(K, y, assume_a=\"pos\", overwrite_a=False)\n",
      "/lustre06/project/6067616/smuzelle/reverse_predictivity/basic/lib/python3.11/site-packages/sklearn/linear_model/_ridge.py:248: LinAlgWarning: Ill-conditioned matrix (rcond=3.63071e-09): result may not be accurate.\n",
      "  dual_coef = linalg.solve(K, y, assume_a=\"pos\", overwrite_a=False)\n",
      "/lustre06/project/6067616/smuzelle/reverse_predictivity/basic/lib/python3.11/site-packages/sklearn/linear_model/_ridge.py:248: LinAlgWarning: Ill-conditioned matrix (rcond=1.84308e-09): result may not be accurate.\n",
      "  dual_coef = linalg.solve(K, y, assume_a=\"pos\", overwrite_a=False)\n",
      "/lustre06/project/6067616/smuzelle/reverse_predictivity/basic/lib/python3.11/site-packages/sklearn/linear_model/_ridge.py:248: LinAlgWarning: Ill-conditioned matrix (rcond=2.87163e-09): result may not be accurate.\n",
      "  dual_coef = linalg.solve(K, y, assume_a=\"pos\", overwrite_a=False)\n",
      "/lustre06/project/6067616/smuzelle/reverse_predictivity/basic/lib/python3.11/site-packages/sklearn/linear_model/_ridge.py:248: LinAlgWarning: Ill-conditioned matrix (rcond=1.69287e-09): result may not be accurate.\n",
      "  dual_coef = linalg.solve(K, y, assume_a=\"pos\", overwrite_a=False)\n",
      "/lustre06/project/6067616/smuzelle/reverse_predictivity/basic/lib/python3.11/site-packages/sklearn/linear_model/_ridge.py:248: LinAlgWarning: Ill-conditioned matrix (rcond=1.20016e-09): result may not be accurate.\n",
      "  dual_coef = linalg.solve(K, y, assume_a=\"pos\", overwrite_a=False)\n",
      "/lustre06/project/6067616/smuzelle/reverse_predictivity/basic/lib/python3.11/site-packages/sklearn/linear_model/_ridge.py:250: UserWarning: Singular matrix in solving dual problem. Using least-squares solution instead.\n",
      "  warnings.warn(\n",
      "/lustre06/project/6067616/smuzelle/reverse_predictivity/basic/lib/python3.11/site-packages/sklearn/linear_model/_ridge.py:248: LinAlgWarning: Ill-conditioned matrix (rcond=2.16752e-09): result may not be accurate.\n",
      "  dual_coef = linalg.solve(K, y, assume_a=\"pos\", overwrite_a=False)\n",
      "/lustre06/project/6067616/smuzelle/reverse_predictivity/basic/lib/python3.11/site-packages/sklearn/linear_model/_ridge.py:248: LinAlgWarning: Ill-conditioned matrix (rcond=2.17579e-09): result may not be accurate.\n",
      "  dual_coef = linalg.solve(K, y, assume_a=\"pos\", overwrite_a=False)\n",
      "/lustre06/project/6067616/smuzelle/reverse_predictivity/basic/lib/python3.11/site-packages/sklearn/linear_model/_ridge.py:250: UserWarning: Singular matrix in solving dual problem. Using least-squares solution instead.\n",
      "  warnings.warn(\n",
      "/lustre06/project/6067616/smuzelle/reverse_predictivity/basic/lib/python3.11/site-packages/sklearn/linear_model/_ridge.py:248: LinAlgWarning: Ill-conditioned matrix (rcond=3.07806e-09): result may not be accurate.\n",
      "  dual_coef = linalg.solve(K, y, assume_a=\"pos\", overwrite_a=False)\n",
      "/lustre06/project/6067616/smuzelle/reverse_predictivity/basic/lib/python3.11/site-packages/sklearn/linear_model/_ridge.py:248: LinAlgWarning: Ill-conditioned matrix (rcond=3.63071e-09): result may not be accurate.\n",
      "  dual_coef = linalg.solve(K, y, assume_a=\"pos\", overwrite_a=False)\n",
      "/lustre06/project/6067616/smuzelle/reverse_predictivity/basic/lib/python3.11/site-packages/sklearn/linear_model/_ridge.py:248: LinAlgWarning: Ill-conditioned matrix (rcond=1.84308e-09): result may not be accurate.\n",
      "  dual_coef = linalg.solve(K, y, assume_a=\"pos\", overwrite_a=False)\n",
      "/lustre06/project/6067616/smuzelle/reverse_predictivity/basic/lib/python3.11/site-packages/sklearn/linear_model/_ridge.py:248: LinAlgWarning: Ill-conditioned matrix (rcond=2.87163e-09): result may not be accurate.\n",
      "  dual_coef = linalg.solve(K, y, assume_a=\"pos\", overwrite_a=False)\n"
     ]
    }
   ],
   "source": [
    "model_to_monkey.main(model, monkey, out_dir, n_images, data_dir)"
   ]
  },
  {
   "cell_type": "code",
   "execution_count": 5,
   "id": "7e1e6427-3a64-49a9-be48-7cec67aaf6bc",
   "metadata": {},
   "outputs": [],
   "source": [
    "ev = np.load(os.path.join(out_dir, f'forward_{monkey}_ev.npy'))"
   ]
  },
  {
   "cell_type": "code",
   "execution_count": 6,
   "id": "b59a2c5c-4cc7-413b-b8b8-17df88ee486e",
   "metadata": {},
   "outputs": [
    {
     "data": {
      "text/plain": [
       "(107,)"
      ]
     },
     "execution_count": 6,
     "metadata": {},
     "output_type": "execute_result"
    }
   ],
   "source": [
    "ev.shape"
   ]
  },
  {
   "cell_type": "code",
   "execution_count": 7,
   "id": "e973f312-de95-461a-a4d6-f14e38ec75aa",
   "metadata": {},
   "outputs": [
    {
     "data": {
      "text/plain": [
       "53.115647311402476"
      ]
     },
     "execution_count": 7,
     "metadata": {},
     "output_type": "execute_result"
    }
   ],
   "source": [
    "ev.mean()"
   ]
  },
  {
   "cell_type": "code",
   "execution_count": null,
   "id": "0a1256fb-061d-41f1-af01-2d966902797a",
   "metadata": {},
   "outputs": [],
   "source": []
  }
 ],
 "metadata": {
  "kernelspec": {
   "display_name": "Basic Python env",
   "language": "python",
   "name": "def-kohitij"
  },
  "language_info": {
   "codemirror_mode": {
    "name": "ipython",
    "version": 3
   },
   "file_extension": ".py",
   "mimetype": "text/x-python",
   "name": "python",
   "nbconvert_exporter": "python",
   "pygments_lexer": "ipython3",
   "version": "3.11.2"
  }
 },
 "nbformat": 4,
 "nbformat_minor": 5
}
